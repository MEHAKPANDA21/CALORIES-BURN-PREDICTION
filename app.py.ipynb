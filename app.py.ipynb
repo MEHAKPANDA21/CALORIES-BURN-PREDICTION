{
 "cells": [
  {
   "cell_type": "code",
   "execution_count": 57,
   "id": "8445a9c1-001c-420c-b9f0-21ad9d3fbb2d",
   "metadata": {},
   "outputs": [],
   "source": [
    "import streamlit as st\n",
    "import pickle\n",
    "import numpy as np"
   ]
  },
  {
   "cell_type": "code",
   "execution_count": 59,
   "id": "82ed65d2-1900-4b47-8832-307f3e3ec0c0",
   "metadata": {},
   "outputs": [],
   "source": [
    "# Load the model\n",
    "with open('calories_model.pkl', 'rb') as f:\n",
    "    model = pickle.load(f)"
   ]
  },
  {
   "cell_type": "code",
   "execution_count": 61,
   "id": "0568210a-3461-4ef5-a358-f171b93ee81a",
   "metadata": {},
   "outputs": [
    {
     "data": {
      "text/plain": [
       "DeltaGenerator()"
      ]
     },
     "execution_count": 61,
     "metadata": {},
     "output_type": "execute_result"
    }
   ],
   "source": [
    "# Streamlit app\n",
    "st.title(\"Calories Burned Prediction App\")"
   ]
  },
  {
   "cell_type": "code",
   "execution_count": 63,
   "id": "80f610d7-c4aa-4997-85ef-e9aac8569b41",
   "metadata": {},
   "outputs": [],
   "source": [
    "\n",
    "st.write(\"Enter your details to estimate calories burned:\")"
   ]
  },
  {
   "cell_type": "code",
   "execution_count": 65,
   "id": "77dbc1ec-b433-4917-9bfc-c68cdc392e38",
   "metadata": {},
   "outputs": [],
   "source": [
    "# Inputs\n",
    "gender = st.selectbox(\"Gender\", [\"Male\", \"Female\"])\n",
    "age = st.number_input(\"Age\", min_value=1, max_value=120, value=25)\n",
    "height = st.number_input(\"Height (in cm)\", min_value=50, max_value=250, value=170)\n",
    "weight = st.number_input(\"Weight (in kg)\", min_value=10, max_value=200, value=70)\n",
    "duration = st.number_input(\"Workout Duration (in minutes)\", min_value=1, max_value=300, value=30)\n",
    "heart_rate = st.number_input(\"Heart Rate (bpm)\", min_value=40, max_value=200, value=80)\n",
    "body_temp = st.number_input(\"Body Temperature (°C)\", min_value=30.0, max_value=45.0, value=37.0)"
   ]
  },
  {
   "cell_type": "code",
   "execution_count": 67,
   "id": "ee377da1-0eaf-440f-b601-677902fcc94d",
   "metadata": {},
   "outputs": [],
   "source": [
    "# Encode gender\n",
    "gender_encoded = 1 if gender == \"Male\" else 0\n"
   ]
  },
  {
   "cell_type": "code",
   "execution_count": 69,
   "id": "94e0f55f-2623-400d-8ed4-e339d8566b60",
   "metadata": {},
   "outputs": [],
   "source": [
    "# Prediction\n",
    "if st.button(\"Predict Calories Burned\"):\n",
    "    features = np.array([[gender_encoded, age, height, weight, duration, heart_rate, body_temp]])\n",
    "    calories = model.predict(features)[0]\n",
    "    st.success(f\"Estimated Calories Burned: {calories:.2f}\")"
   ]
  },
  {
   "cell_type": "code",
   "execution_count": null,
   "id": "892d6402-db74-443d-b141-3ec64d31a618",
   "metadata": {},
   "outputs": [],
   "source": []
  }
 ],
 "metadata": {
  "kernelspec": {
   "display_name": "Python [conda env:base] *",
   "language": "python",
   "name": "conda-base-py"
  },
  "language_info": {
   "codemirror_mode": {
    "name": "ipython",
    "version": 3
   },
   "file_extension": ".py",
   "mimetype": "text/x-python",
   "name": "python",
   "nbconvert_exporter": "python",
   "pygments_lexer": "ipython3",
   "version": "3.12.7"
  }
 },
 "nbformat": 4,
 "nbformat_minor": 5
}
